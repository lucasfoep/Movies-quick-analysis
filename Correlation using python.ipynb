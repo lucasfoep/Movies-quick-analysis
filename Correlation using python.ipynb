{
 "cells": [
  {
   "cell_type": "markdown",
   "id": "rising-restoration",
   "metadata": {},
   "source": [
    "# Is there a correlation between a budget of a movie and its profit?"
   ]
  },
  {
   "cell_type": "markdown",
   "id": "productive-recording",
   "metadata": {},
   "source": [
    "### Imports libraries, defines plotting style and where to save figures plotted."
   ]
  },
  {
   "cell_type": "code",
   "execution_count": 150,
   "id": "twenty-klein",
   "metadata": {},
   "outputs": [
    {
     "data": {
      "text/html": [
       "<div>\n",
       "<style scoped>\n",
       "    .dataframe tbody tr th:only-of-type {\n",
       "        vertical-align: middle;\n",
       "    }\n",
       "\n",
       "    .dataframe tbody tr th {\n",
       "        vertical-align: top;\n",
       "    }\n",
       "\n",
       "    .dataframe thead th {\n",
       "        text-align: right;\n",
       "    }\n",
       "</style>\n",
       "<table border=\"1\" class=\"dataframe\">\n",
       "  <thead>\n",
       "    <tr style=\"text-align: right;\">\n",
       "      <th></th>\n",
       "      <th>name</th>\n",
       "      <th>rating</th>\n",
       "      <th>genre</th>\n",
       "      <th>year</th>\n",
       "      <th>released</th>\n",
       "      <th>score</th>\n",
       "      <th>votes</th>\n",
       "      <th>director</th>\n",
       "      <th>writer</th>\n",
       "      <th>star</th>\n",
       "      <th>country</th>\n",
       "      <th>budget</th>\n",
       "      <th>gross</th>\n",
       "      <th>company</th>\n",
       "      <th>runtime</th>\n",
       "    </tr>\n",
       "  </thead>\n",
       "  <tbody>\n",
       "    <tr>\n",
       "      <th>0</th>\n",
       "      <td>The Shining</td>\n",
       "      <td>R</td>\n",
       "      <td>Drama</td>\n",
       "      <td>1980</td>\n",
       "      <td>June 13, 1980 (United States)</td>\n",
       "      <td>8.4</td>\n",
       "      <td>927000.0</td>\n",
       "      <td>Stanley Kubrick</td>\n",
       "      <td>Stephen King</td>\n",
       "      <td>Jack Nicholson</td>\n",
       "      <td>United Kingdom</td>\n",
       "      <td>19000000.0</td>\n",
       "      <td>46998772.0</td>\n",
       "      <td>Warner Bros.</td>\n",
       "      <td>146.0</td>\n",
       "    </tr>\n",
       "    <tr>\n",
       "      <th>1</th>\n",
       "      <td>The Blue Lagoon</td>\n",
       "      <td>R</td>\n",
       "      <td>Adventure</td>\n",
       "      <td>1980</td>\n",
       "      <td>July 2, 1980 (United States)</td>\n",
       "      <td>5.8</td>\n",
       "      <td>65000.0</td>\n",
       "      <td>Randal Kleiser</td>\n",
       "      <td>Henry De Vere Stacpoole</td>\n",
       "      <td>Brooke Shields</td>\n",
       "      <td>United States</td>\n",
       "      <td>4500000.0</td>\n",
       "      <td>58853106.0</td>\n",
       "      <td>Columbia Pictures</td>\n",
       "      <td>104.0</td>\n",
       "    </tr>\n",
       "    <tr>\n",
       "      <th>2</th>\n",
       "      <td>Star Wars: Episode V - The Empire Strikes Back</td>\n",
       "      <td>PG</td>\n",
       "      <td>Action</td>\n",
       "      <td>1980</td>\n",
       "      <td>June 20, 1980 (United States)</td>\n",
       "      <td>8.7</td>\n",
       "      <td>1200000.0</td>\n",
       "      <td>Irvin Kershner</td>\n",
       "      <td>Leigh Brackett</td>\n",
       "      <td>Mark Hamill</td>\n",
       "      <td>United States</td>\n",
       "      <td>18000000.0</td>\n",
       "      <td>538375067.0</td>\n",
       "      <td>Lucasfilm</td>\n",
       "      <td>124.0</td>\n",
       "    </tr>\n",
       "    <tr>\n",
       "      <th>3</th>\n",
       "      <td>Airplane!</td>\n",
       "      <td>PG</td>\n",
       "      <td>Comedy</td>\n",
       "      <td>1980</td>\n",
       "      <td>July 2, 1980 (United States)</td>\n",
       "      <td>7.7</td>\n",
       "      <td>221000.0</td>\n",
       "      <td>Jim Abrahams</td>\n",
       "      <td>Jim Abrahams</td>\n",
       "      <td>Robert Hays</td>\n",
       "      <td>United States</td>\n",
       "      <td>3500000.0</td>\n",
       "      <td>83453539.0</td>\n",
       "      <td>Paramount Pictures</td>\n",
       "      <td>88.0</td>\n",
       "    </tr>\n",
       "    <tr>\n",
       "      <th>4</th>\n",
       "      <td>Caddyshack</td>\n",
       "      <td>R</td>\n",
       "      <td>Comedy</td>\n",
       "      <td>1980</td>\n",
       "      <td>July 25, 1980 (United States)</td>\n",
       "      <td>7.3</td>\n",
       "      <td>108000.0</td>\n",
       "      <td>Harold Ramis</td>\n",
       "      <td>Brian Doyle-Murray</td>\n",
       "      <td>Chevy Chase</td>\n",
       "      <td>United States</td>\n",
       "      <td>6000000.0</td>\n",
       "      <td>39846344.0</td>\n",
       "      <td>Orion Pictures</td>\n",
       "      <td>98.0</td>\n",
       "    </tr>\n",
       "  </tbody>\n",
       "</table>\n",
       "</div>"
      ],
      "text/plain": [
       "                                             name rating      genre  year  \\\n",
       "0                                     The Shining      R      Drama  1980   \n",
       "1                                 The Blue Lagoon      R  Adventure  1980   \n",
       "2  Star Wars: Episode V - The Empire Strikes Back     PG     Action  1980   \n",
       "3                                       Airplane!     PG     Comedy  1980   \n",
       "4                                      Caddyshack      R     Comedy  1980   \n",
       "\n",
       "                        released  score      votes         director  \\\n",
       "0  June 13, 1980 (United States)    8.4   927000.0  Stanley Kubrick   \n",
       "1   July 2, 1980 (United States)    5.8    65000.0   Randal Kleiser   \n",
       "2  June 20, 1980 (United States)    8.7  1200000.0   Irvin Kershner   \n",
       "3   July 2, 1980 (United States)    7.7   221000.0     Jim Abrahams   \n",
       "4  July 25, 1980 (United States)    7.3   108000.0     Harold Ramis   \n",
       "\n",
       "                    writer            star         country      budget  \\\n",
       "0             Stephen King  Jack Nicholson  United Kingdom  19000000.0   \n",
       "1  Henry De Vere Stacpoole  Brooke Shields   United States   4500000.0   \n",
       "2           Leigh Brackett     Mark Hamill   United States  18000000.0   \n",
       "3             Jim Abrahams     Robert Hays   United States   3500000.0   \n",
       "4       Brian Doyle-Murray     Chevy Chase   United States   6000000.0   \n",
       "\n",
       "         gross             company  runtime  \n",
       "0   46998772.0        Warner Bros.    146.0  \n",
       "1   58853106.0   Columbia Pictures    104.0  \n",
       "2  538375067.0           Lucasfilm    124.0  \n",
       "3   83453539.0  Paramount Pictures     88.0  \n",
       "4   39846344.0      Orion Pictures     98.0  "
      ]
     },
     "execution_count": 150,
     "metadata": {},
     "output_type": "execute_result"
    }
   ],
   "source": [
    "import pandas as pd\n",
    "import seaborn as sns\n",
    "import numpy as np\n",
    "import matplotlib\n",
    "import matplotlib.pyplot as plt\n",
    "plt.style.use('ggplot')\n",
    "from matplotlib.pyplot import figure\n",
    "\n",
    "%matplotlib inline\n",
    "matplotlib.rcParams['figure.figsize'] = (12, 8)\n",
    "\n",
    "df = pd.read_csv('movies.csv')\n",
    "df.head()"
   ]
  },
  {
   "cell_type": "markdown",
   "id": "rough-swift",
   "metadata": {},
   "source": [
    "### Taking a look at data types and seeing if there are null values."
   ]
  },
  {
   "cell_type": "code",
   "execution_count": 151,
   "id": "opposite-idaho",
   "metadata": {},
   "outputs": [
    {
     "name": "stdout",
     "output_type": "stream",
     "text": [
      "<class 'pandas.core.frame.DataFrame'>\n",
      "RangeIndex: 7668 entries, 0 to 7667\n",
      "Data columns (total 15 columns):\n",
      " #   Column    Non-Null Count  Dtype  \n",
      "---  ------    --------------  -----  \n",
      " 0   name      7668 non-null   object \n",
      " 1   rating    7591 non-null   object \n",
      " 2   genre     7668 non-null   object \n",
      " 3   year      7668 non-null   int64  \n",
      " 4   released  7666 non-null   object \n",
      " 5   score     7665 non-null   float64\n",
      " 6   votes     7665 non-null   float64\n",
      " 7   director  7668 non-null   object \n",
      " 8   writer    7665 non-null   object \n",
      " 9   star      7667 non-null   object \n",
      " 10  country   7665 non-null   object \n",
      " 11  budget    5497 non-null   float64\n",
      " 12  gross     7479 non-null   float64\n",
      " 13  company   7651 non-null   object \n",
      " 14  runtime   7664 non-null   float64\n",
      "dtypes: float64(5), int64(1), object(9)\n",
      "memory usage: 898.7+ KB\n"
     ]
    }
   ],
   "source": [
    "df.info()"
   ]
  },
  {
   "cell_type": "markdown",
   "id": "opposed-roulette",
   "metadata": {},
   "source": [
    "### Replaces null values."
   ]
  },
  {
   "cell_type": "code",
   "execution_count": 152,
   "id": "historical-plant",
   "metadata": {},
   "outputs": [],
   "source": [
    "df['rating'] = df['rating'].fillna('Unknown')\n",
    "df['released'] = df['released'].fillna('Unknown')\n",
    "df['score'] = df['score'].fillna('0')\n",
    "df['votes'] = df['votes'].fillna('0')\n",
    "df['writer'] = df['writer'].fillna('Unknown')\n",
    "df['star'] = df['star'].fillna('Unknown')\n",
    "df['country'] = df['country'].fillna('Unknown')\n",
    "df['budget'] = df['budget'].fillna('0')\n",
    "df['gross'] = df['gross'].fillna('0')\n",
    "df['company'] = df['company'].fillna('Unknown')\n",
    "df['runtime'] = df['runtime'].fillna('0')"
   ]
  },
  {
   "cell_type": "markdown",
   "id": "female-round",
   "metadata": {},
   "source": [
    "### Veryfing that there are no more null values and finding out what the new data types are."
   ]
  },
  {
   "cell_type": "code",
   "execution_count": 153,
   "id": "marked-presentation",
   "metadata": {},
   "outputs": [
    {
     "name": "stdout",
     "output_type": "stream",
     "text": [
      "<class 'pandas.core.frame.DataFrame'>\n",
      "RangeIndex: 7668 entries, 0 to 7667\n",
      "Data columns (total 15 columns):\n",
      " #   Column    Non-Null Count  Dtype \n",
      "---  ------    --------------  ----- \n",
      " 0   name      7668 non-null   object\n",
      " 1   rating    7668 non-null   object\n",
      " 2   genre     7668 non-null   object\n",
      " 3   year      7668 non-null   int64 \n",
      " 4   released  7668 non-null   object\n",
      " 5   score     7668 non-null   object\n",
      " 6   votes     7668 non-null   object\n",
      " 7   director  7668 non-null   object\n",
      " 8   writer    7668 non-null   object\n",
      " 9   star      7668 non-null   object\n",
      " 10  country   7668 non-null   object\n",
      " 11  budget    7668 non-null   object\n",
      " 12  gross     7668 non-null   object\n",
      " 13  company   7668 non-null   object\n",
      " 14  runtime   7668 non-null   object\n",
      "dtypes: int64(1), object(14)\n",
      "memory usage: 898.7+ KB\n"
     ]
    }
   ],
   "source": [
    "df.info()"
   ]
  },
  {
   "cell_type": "markdown",
   "id": "female-rotation",
   "metadata": {},
   "source": [
    "### Redefining data types to allow for correlation analysis."
   ]
  },
  {
   "cell_type": "code",
   "execution_count": 154,
   "id": "gentle-tomato",
   "metadata": {},
   "outputs": [],
   "source": [
    "df['score'] = df['score'].astype('float64')\n",
    "df['votes'] = df['votes'].astype('int64')\n",
    "df['budget'] = df['budget'].astype('int64')\n",
    "df['gross'] = df['gross'].astype('int64')\n",
    "df['runtime'] = df['runtime'].astype('int64')"
   ]
  },
  {
   "cell_type": "markdown",
   "id": "advised-basics",
   "metadata": {},
   "source": [
    "### Confirming data types have been changed correctly."
   ]
  },
  {
   "cell_type": "code",
   "execution_count": 155,
   "id": "southwest-sydney",
   "metadata": {},
   "outputs": [
    {
     "data": {
      "text/plain": [
       "name         object\n",
       "rating       object\n",
       "genre        object\n",
       "year          int64\n",
       "released     object\n",
       "score       float64\n",
       "votes         int64\n",
       "director     object\n",
       "writer       object\n",
       "star         object\n",
       "country      object\n",
       "budget        int64\n",
       "gross         int64\n",
       "company      object\n",
       "runtime       int64\n",
       "dtype: object"
      ]
     },
     "execution_count": 155,
     "metadata": {},
     "output_type": "execute_result"
    }
   ],
   "source": [
    "df.dtypes"
   ]
  },
  {
   "cell_type": "markdown",
   "id": "stopped-neighborhood",
   "metadata": {},
   "source": [
    "### Checking if there are duplicated rows."
   ]
  },
  {
   "cell_type": "code",
   "execution_count": 156,
   "id": "wooden-valuable",
   "metadata": {},
   "outputs": [
    {
     "name": "stdout",
     "output_type": "stream",
     "text": [
      "0 duplicated rows found.\n"
     ]
    }
   ],
   "source": [
    "print(f'{len(df[df.duplicated()])} duplicated rows found.')"
   ]
  },
  {
   "cell_type": "markdown",
   "id": "applied-hartford",
   "metadata": {},
   "source": [
    "### Analyzing if there seems to be a correlation between budget and gross profit."
   ]
  },
  {
   "cell_type": "code",
   "execution_count": 157,
   "id": "catholic-dressing",
   "metadata": {},
   "outputs": [
    {
     "data": {
      "text/plain": [
       "<AxesSubplot:xlabel='budget', ylabel='gross'>"
      ]
     },
     "execution_count": 157,
     "metadata": {},
     "output_type": "execute_result"
    },
    {
     "data": {
      "image/png": "[encoded data removed]",
      "text/plain": [
       "<Figure size 864x576 with 1 Axes>"
      ]
     },
     "metadata": {
      "needs_background": "light"
     },
     "output_type": "display_data"
    }
   ],
   "source": [
    "sns.regplot(x='budget', y='gross', data=df, scatter_kws={'color':'red'}, line_kws={'color':'black'})"
   ]
  },
  {
   "cell_type": "markdown",
   "id": "catholic-archives",
   "metadata": {},
   "source": [
    "### Checking how strong the correlation is and whether or not there are other features correlated."
   ]
  },
  {
   "cell_type": "code",
   "execution_count": 158,
   "id": "first-soccer",
   "metadata": {},
   "outputs": [
    {
     "data": {
      "image/png": "[encoded data removed]",
      "text/plain": [
       "<Figure size 864x576 with 2 Axes>"
      ]
     },
     "metadata": {
      "needs_background": "light"
     },
     "output_type": "display_data"
    }
   ],
   "source": [
    "correlation_matrix = df.corr()\n",
    "sns.heatmap(correlation_matrix, annot=True, cmap='flare')\n",
    "plt.title('Correlation Matrix for movie features')\n",
    "plt.xlabel('Movie Features')\n",
    "plt.ylabel('Movie Features')\n",
    "plt.show()"
   ]
  },
  {
   "cell_type": "markdown",
   "id": "northern-warning",
   "metadata": {},
   "source": [
    "### A simplified way of looking at correlation."
   ]
  },
  {
   "cell_type": "code",
   "execution_count": 159,
   "id": "rapid-alcohol",
   "metadata": {},
   "outputs": [
    {
     "data": {
      "text/plain": [
       "gross    budget     0.750157\n",
       "budget   gross      0.750157\n",
       "votes    gross      0.632870\n",
       "gross    votes      0.632870\n",
       "budget   votes      0.486931\n",
       "votes    budget     0.486931\n",
       "score    votes      0.407101\n",
       "votes    score      0.407101\n",
       "score    runtime    0.394564\n",
       "runtime  score      0.394564\n",
       "year     budget     0.309212\n",
       "budget   year       0.309212\n",
       "runtime  votes      0.306984\n",
       "votes    runtime    0.306984\n",
       "budget   runtime    0.268372\n",
       "runtime  budget     0.268372\n",
       "gross    year       0.261900\n",
       "year     gross      0.261900\n",
       "runtime  gross      0.244339\n",
       "gross    runtime    0.244339\n",
       "votes    year       0.222427\n",
       "year     votes      0.222427\n",
       "score    gross      0.186012\n",
       "gross    score      0.186012\n",
       "runtime  year       0.116358\n",
       "year     runtime    0.116358\n",
       "score    year       0.092616\n",
       "year     score      0.092616\n",
       "budget   score      0.056863\n",
       "score    budget     0.056863\n",
       "dtype: float64"
      ]
     },
     "execution_count": 159,
     "metadata": {},
     "output_type": "execute_result"
    }
   ],
   "source": [
    "sorted_corr = df.corr().unstack().sort_values(ascending=False)\n",
    "sorted_corr[sorted_corr != 1]"
   ]
  },
  {
   "cell_type": "code",
   "execution_count": null,
   "id": "cooperative-dynamics",
   "metadata": {},
   "outputs": [],
   "source": []
  }
 ],
 "metadata": {
  "kernelspec": {
   "display_name": "Python 3",
   "language": "python",
   "name": "python3"
  },
  "language_info": {
   "codemirror_mode": {
    "name": "ipython",
    "version": 3
   },
   "file_extension": ".py",
   "mimetype": "text/x-python",
   "name": "python",
   "nbconvert_exporter": "python",
   "pygments_lexer": "ipython3",
   "version": "3.7.9"
  }
 },
 "nbformat": 4,
 "nbformat_minor": 5
}
